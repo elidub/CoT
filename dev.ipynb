{
 "cells": [
  {
   "cell_type": "code",
   "execution_count": null,
   "metadata": {},
   "outputs": [],
   "source": [
    "%load_ext autoreload\n",
    "%autoreload 2\n",
    "\n",
    "import numpy as np\n",
    "import torch\n",
    "\n",
    "from cot.run import debug_parse_option\n",
    "from transformers import AutoTokenizer, AutoModelForCausalLM\n",
    "from cot.dataset import CoTDataset\n",
    "from cot.learner import run_model"
   ]
  },
  {
   "cell_type": "code",
   "execution_count": null,
   "metadata": {},
   "outputs": [],
   "source": [
    "args = debug_parse_option(notebook=True)\n",
    "\n",
    "\n",
    "\n",
    "tokenizer = AutoTokenizer.from_pretrained(args.model_id, cache_dir=args.hf_cache_dir)\n",
    "# model = AutoModelForCausalLM.from_pretrained(args.model_id, cache_dir=args.hf_cache_dir)\n"
   ]
  },
  {
   "cell_type": "code",
   "execution_count": null,
   "metadata": {},
   "outputs": [],
   "source": [
    "args.step_by_step = False\n",
    "args.n_shot = 0\n",
    "args.no_explanation = False\n",
    "\n",
    "tokenized_datasets = {}\n",
    "splits = [\"train\", \"validation\"]\n",
    "for split in splits:\n",
    "    tokenized_datasets[split] = CoTDataset(args, tokenizer, split)"
   ]
  }
 ],
 "metadata": {
  "kernelspec": {
   "display_name": "Python 3",
   "language": "python",
   "name": "python3"
  },
  "language_info": {
   "codemirror_mode": {
    "name": "ipython",
    "version": 3
   },
   "file_extension": ".py",
   "mimetype": "text/x-python",
   "name": "python",
   "nbconvert_exporter": "python",
   "pygments_lexer": "ipython3",
   "version": "3.10.6"
  },
  "orig_nbformat": 4
 },
 "nbformat": 4,
 "nbformat_minor": 2
}
