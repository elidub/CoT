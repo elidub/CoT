{
 "cells": [
  {
   "cell_type": "code",
   "execution_count": 1,
   "metadata": {},
   "outputs": [],
   "source": [
    "%load_ext autoreload\n",
    "%autoreload 2\n",
    "from transformers import AutoModelForCausalLM, AutoModelForSeq2SeqLM, AutoTokenizer, T5ForConditionalGeneration, T5Tokenizer\n",
    "from peft import LoraConfig, get_peft_model, prepare_model_for_int8_training, TaskType"
   ]
  },
  {
   "cell_type": "code",
   "execution_count": 2,
   "metadata": {},
   "outputs": [],
   "source": [
    "from cot.utils import load_model_dicts, load_model"
   ]
  },
  {
   "cell_type": "code",
   "execution_count": 3,
   "metadata": {},
   "outputs": [
    {
     "name": "stdout",
     "output_type": "stream",
     "text": [
      "google/flan-t5-small\n",
      "google/flan-t5-base\n"
     ]
    }
   ],
   "source": [
    "m_dicts = load_model_dicts()\n",
    "[print(m_id) for m_id, _ in m_dicts.items()];\n",
    "    "
   ]
  },
  {
   "cell_type": "code",
   "execution_count": 7,
   "metadata": {},
   "outputs": [],
   "source": [
    "model, tokenizer = load_model(\n",
    "        'google/t5-small',\n",
    "        {\n",
    "            'model' : T5ForConditionalGeneration, \n",
    "            'tokenizer' : T5Tokenizer, \n",
    "            # 'model_kwargs' : {'device_map':'auto', 'load_in_8bit':True}, \n",
    "            # 'tokenizer_kwargs' : {}\n",
    "        },\n",
    "        hf_cache = '/nfs/scratch/atcs_cot1137/hf_cache/'\n",
    "    )"
   ]
  }
 ],
 "metadata": {
  "kernelspec": {
   "display_name": "Python 3",
   "language": "python",
   "name": "python3"
  },
  "language_info": {
   "codemirror_mode": {
    "name": "ipython",
    "version": 3
   },
   "file_extension": ".py",
   "mimetype": "text/x-python",
   "name": "python",
   "nbconvert_exporter": "python",
   "pygments_lexer": "ipython3",
   "version": "3.10.6"
  },
  "orig_nbformat": 4,
  "vscode": {
   "interpreter": {
    "hash": "1861a5aa9f350aba91bef7c01da12accd73a3a852a1c9bb0fe8c4356ee577026"
   }
  }
 },
 "nbformat": 4,
 "nbformat_minor": 2
}
