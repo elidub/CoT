{
 "cells": [
  {
   "cell_type": "code",
   "execution_count": 244,
   "metadata": {},
   "outputs": [
    {
     "name": "stdout",
     "output_type": "stream",
     "text": [
      "The autoreload extension is already loaded. To reload it, use:\n",
      "  %reload_ext autoreload\n"
     ]
    }
   ],
   "source": [
    "%load_ext autoreload\n",
    "%autoreload 2\n",
    "\n",
    "import json\n",
    "import pandas as pd\n",
    "import numpy as np\n",
    "from matplotlib import pyplot as plt\n",
    "from matplotlib.lines import Line2D"
   ]
  },
  {
   "attachments": {},
   "cell_type": "markdown",
   "metadata": {},
   "source": [
    "General settings"
   ]
  },
  {
   "cell_type": "code",
   "execution_count": 245,
   "metadata": {},
   "outputs": [],
   "source": [
    "ylim = 0.7"
   ]
  },
  {
   "attachments": {},
   "cell_type": "markdown",
   "metadata": {},
   "source": [
    "# Ablation results"
   ]
  },
  {
   "cell_type": "code",
   "execution_count": 246,
   "metadata": {},
   "outputs": [
    {
     "name": "stdout",
     "output_type": "stream",
     "text": [
      "56\n"
     ]
    }
   ],
   "source": [
    "# open store/results.json\n",
    "with open('store/results.json', 'r') as f:\n",
    "    results = json.load(f)\n",
    "df = pd.DataFrame.from_dict(results, orient='index')\n",
    "print(len(df))"
   ]
  },
  {
   "cell_type": "code",
   "execution_count": 247,
   "metadata": {},
   "outputs": [],
   "source": [
    "cols_step_in = { # Select this if we want to leave the step-by-step IN\n",
    "    0 : {'n_shot' : 0, 'step_by_step' : False, 'no_explanation' : False, 'desc': '0'},\n",
    "    1 : {'n_shot' : 0, 'step_by_step' : True, 'no_explanation'  : False, 'desc': '0\\n\"Step-by-step\"'},\n",
    "    2 : {'n_shot' : 1, 'step_by_step' : False, 'no_explanation' : True,  'desc': '1'},\n",
    "    3 : {'n_shot' : 2, 'step_by_step' : False, 'no_explanation' : True,  'desc': '2'},\n",
    "    4 : {'n_shot' : 3, 'step_by_step' : False, 'no_explanation' : True,  'desc': '3'},\n",
    "    5 : {'n_shot' : 4, 'step_by_step' : False, 'no_explanation' : True,  'desc': '4'},\n",
    "    6 : {'n_shot' : 5, 'step_by_step' : False, 'no_explanation' : True,  'desc': '5'},\n",
    "}\n",
    "\n",
    "cols_step_out = { # Select this if we want to leave the step-by-step OUT\n",
    "    0 : {'n_shot' : 0, 'step_by_step' : False, 'no_explanation' : False, 'desc': '0'},\n",
    "    1 : {'n_shot' : 1, 'step_by_step' : False, 'no_explanation' : True,  'desc': '1'},\n",
    "    2 : {'n_shot' : 2, 'step_by_step' : False, 'no_explanation' : True,  'desc': '2'},\n",
    "    3 : {'n_shot' : 3, 'step_by_step' : False, 'no_explanation' : True,  'desc': '3'},\n",
    "    4 : {'n_shot' : 4, 'step_by_step' : False, 'no_explanation' : True,  'desc': '4'},\n",
    "    5 : {'n_shot' : 5, 'step_by_step' : False, 'no_explanation' : True,  'desc': '5'},\n",
    "}\n",
    "\n",
    "# cols = cols_step_in\n",
    "cols = cols_step_out"
   ]
  },
  {
   "cell_type": "code",
   "execution_count": 248,
   "metadata": {},
   "outputs": [],
   "source": [
    "data = {'arithmetic' : {}, 'presuppositions_as_nli' : {}}\n",
    "for k, col in cols.items():\n",
    "    df_mode_acc =  df[(df['n_shot'] == col['n_shot']) & (df['step_by_step'] == col['step_by_step']) & (df['no_explanation'] == col['no_explanation'])][['model_id',  'accuracy', 'dataset_name']]\n",
    "\n",
    "    for dataset_name in df_mode_acc['dataset_name'].unique():\n",
    "\n",
    "        a = df_mode_acc[df_mode_acc['dataset_name'] == dataset_name]\n",
    "\n",
    "        data[dataset_name][k] = df_mode_acc[df_mode_acc['dataset_name'] == dataset_name].set_index('model_id').to_dict()['accuracy']"
   ]
  },
  {
   "cell_type": "code",
   "execution_count": 249,
   "metadata": {},
   "outputs": [
    {
     "data": {
      "image/png": "[encoded data removed]",
      "text/plain": [
       "<Figure size 1000x250 with 2 Axes>"
      ]
     },
     "metadata": {},
     "output_type": "display_data"
    }
   ],
   "source": [
    "l = 1\n",
    "l2 = 7\n",
    "\n",
    "x_ticks = np.arange(len(cols))*l2\n",
    "\n",
    "colors = {'bigscience/bloom-560m':'tab:green', 'bigscience/bloom-1b1':'tab:blue', 'bigscience/bloom-1b7':'tab:orange', 'bigscience/bloom-3b':'tab:red'}\n",
    "shapes = {'bigscience/bloom-560m':'o', 'bigscience/bloom-1b1':'P', 'bigscience/bloom-1b7':'^', 'bigscience/bloom-3b':'s'}\n",
    "shift =  {0 : -1.5*l, 1: -l*0.5, 2: l*0.5, 3: 1.5*l}\n",
    "tasks = {'arithmetic' : 'Arithmetic', 'presuppositions_as_nli' : 'NLI'}\n",
    "\n",
    "handles = [\n",
    "    Line2D([0], [0], color=color, lw=5, label=label.split('-')[-1]) for label, color in colors.items()\n",
    "]\n",
    "\n",
    "fig, axs = plt.subplots(1, len(data), figsize=(5*len(data), 2.5), sharey=True, sharex=True, tight_layout=True)\n",
    "\n",
    "for (task, data_task), ax in zip(data.items(), axs):\n",
    "\n",
    "    for k, d in data_task.items():\n",
    "        vals = list(d.values())\n",
    "        keys = list(d.keys())\n",
    "        x = [k] * len(vals)\n",
    "\n",
    "        for i, (val, key) in enumerate(zip(vals, keys)):\n",
    "            ax.plot(x_ticks[k] + shift[i], [val], marker = shapes[key] , color = colors[key], alpha=0.8)\n",
    "        # ax.scatter(x, vals, c = [colors[k] for k in keys], alpha=0.5)\n",
    "\n",
    "    ax.set_xticks(x_ticks)\n",
    "    ax.set_xticklabels([v['desc'] for v in cols.values()])\n",
    "    ax.set_xlabel('X-shot')\n",
    "    ax.set_title(tasks[task])\n",
    "    ax.set_ylim([-0.05, ylim])\n",
    "\n",
    "axs[0].set_ylabel('Accuracy')\n",
    "axs[0].legend(handles = handles, loc = 'upper left', title = 'Bloom')\n",
    "axs[0].tick_params(right = True)\n",
    "axs[1].tick_params(labelright = True, right = True)\n",
    "\n",
    "# fig.suptitle('Performance without CoT or finetuning')\n",
    "plt.show()\n"
   ]
  },
  {
   "attachments": {},
   "cell_type": "markdown",
   "metadata": {},
   "source": [
    "# Few-shot CoT Results"
   ]
  },
  {
   "cell_type": "code",
   "execution_count": 250,
   "metadata": {},
   "outputs": [],
   "source": [
    "# open store/results.json\n",
    "with open('store/cot_results.json', 'r') as f:    \n",
    "    results = json.load(f)"
   ]
  },
  {
   "cell_type": "code",
   "execution_count": 251,
   "metadata": {},
   "outputs": [],
   "source": [
    "# change the keys eval and train to 0 and 1, they are on the second level\n",
    "data = {k : {0 : v['eval'], 1 : v['train']} for k, v in results.items()}"
   ]
  },
  {
   "cell_type": "code",
   "execution_count": 252,
   "metadata": {},
   "outputs": [],
   "source": [
    "cols = {\n",
    "    0 : {'desc' : 'Direct \\nevaluation'},\n",
    "    1 : {'desc' : 'Finetuning \\nwith LoRA'},\n",
    "}"
   ]
  },
  {
   "cell_type": "code",
   "execution_count": 254,
   "metadata": {},
   "outputs": [
    {
     "data": {
      "image/png": "[encoded data removed]",
      "text/plain": [
       "<Figure size 600x250 with 2 Axes>"
      ]
     },
     "metadata": {},
     "output_type": "display_data"
    }
   ],
   "source": [
    "l = 1.\n",
    "l2 = 7\n",
    "\n",
    "x_ticks = np.arange(len(cols))*l2\n",
    "\n",
    "colors = {'bigscience/bloom-560m':'tab:green', 'bigscience/bloom-1b1':'tab:blue', 'bigscience/bloom-1b7':'tab:orange', 'bigscience/bloom-3b':'tab:red'}\n",
    "shapes = {'bigscience/bloom-560m':'o', 'bigscience/bloom-1b1':'P', 'bigscience/bloom-1b7':'^', 'bigscience/bloom-3b':'s'}\n",
    "shift =  {0 : -1.5*l, 1: -l*0.5, 2: l*0.5, 3: 1.5*l}\n",
    "tasks = {'arithmetic' : 'Arithmetic', 'presuppositions_as_nli' : 'NLI'}\n",
    "\n",
    "handles = [\n",
    "    Line2D([0], [0], color=color, lw=5, label=label.split('-')[-1]) for label, color in colors.items()\n",
    "]\n",
    "\n",
    "fig, axs = plt.subplots(1, len(data), figsize=(3*len(data), 2.5), sharey=True, sharex=True, tight_layout=True)\n",
    "\n",
    "for (task, data_task), ax in zip(data.items(), axs):\n",
    "\n",
    "    for k, d in data_task.items():\n",
    "        vals = list(d.values())\n",
    "        keys = list(d.keys())\n",
    "        x = [k] * len(vals)\n",
    "\n",
    "        for i, (val, key) in enumerate(zip(vals, keys)):\n",
    "            ax.plot(x_ticks[k] + shift[i], [val], marker = shapes[key] , color = colors[key], alpha=0.8)\n",
    "        # ax.scatter(x, vals, c = [colors[k] for k in keys], alpha=0.5)\n",
    "\n",
    "    ax.set_xticks(x_ticks)\n",
    "    ax.set_xticklabels([v['desc'] for v in cols.values()])\n",
    "    # ax.set_xlabel('X-shot')\n",
    "    ax.set_title(tasks[task])\n",
    "    ax.set_ylim([-0.05, ylim])\n",
    "\n",
    "axs[0].set_ylabel('Accuracy')\n",
    "# axs[0].legend(handles = handles, loc = 'upper left', title = 'Bloom')\n",
    "axs[0].tick_params(right = True)\n",
    "axs[1].tick_params(labelright = True, right = True)\n",
    "\n",
    "# fig.suptitle('Performance without CoT or finetuning')\n",
    "plt.show()\n"
   ]
  }
 ],
 "metadata": {
  "kernelspec": {
   "display_name": "Python 3",
   "language": "python",
   "name": "python3"
  },
  "language_info": {
   "codemirror_mode": {
    "name": "ipython",
    "version": 3
   },
   "file_extension": ".py",
   "mimetype": "text/x-python",
   "name": "python",
   "nbconvert_exporter": "python",
   "pygments_lexer": "ipython3",
   "version": "3.10.6"
  },
  "orig_nbformat": 4
 },
 "nbformat": 4,
 "nbformat_minor": 2
}
